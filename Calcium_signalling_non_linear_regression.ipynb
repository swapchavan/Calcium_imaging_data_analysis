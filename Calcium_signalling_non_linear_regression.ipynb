{
 "cells": [
  {
   "cell_type": "code",
   "execution_count": 1,
   "id": "7157805f",
   "metadata": {},
   "outputs": [],
   "source": [
    "import pandas as pd\n",
    "import matplotlib.pyplot as plt\n",
    "import numpy as np\n",
    "import matplotlib.pyplot as plt\n",
    "import seaborn as sns\n",
    "%matplotlib inline\n",
    "sns.set()"
   ]
  },
  {
   "cell_type": "code",
   "execution_count": 2,
   "id": "43768a73",
   "metadata": {},
   "outputs": [],
   "source": [
    "import math\n",
    "from scipy.optimize import curve_fit"
   ]
  },
  {
   "cell_type": "code",
   "execution_count": 3,
   "id": "be2775aa",
   "metadata": {},
   "outputs": [
    {
     "name": "stdout",
     "output_type": "stream",
     "text": [
      "(385, 720)\n"
     ]
    },
    {
     "data": {
      "text/html": [
       "<div>\n",
       "<style scoped>\n",
       "    .dataframe tbody tr th:only-of-type {\n",
       "        vertical-align: middle;\n",
       "    }\n",
       "\n",
       "    .dataframe tbody tr th {\n",
       "        vertical-align: top;\n",
       "    }\n",
       "\n",
       "    .dataframe thead th {\n",
       "        text-align: right;\n",
       "    }\n",
       "</style>\n",
       "<table border=\"1\" class=\"dataframe\">\n",
       "  <thead>\n",
       "    <tr style=\"text-align: right;\">\n",
       "      <th></th>\n",
       "      <th>Column6</th>\n",
       "      <th>Column7</th>\n",
       "      <th>Column8</th>\n",
       "      <th>Column9</th>\n",
       "      <th>Column10</th>\n",
       "      <th>Column11</th>\n",
       "      <th>Column12</th>\n",
       "      <th>Column13</th>\n",
       "      <th>Column14</th>\n",
       "      <th>Column15</th>\n",
       "      <th>...</th>\n",
       "      <th>Column716</th>\n",
       "      <th>Column717</th>\n",
       "      <th>Column718</th>\n",
       "      <th>Column719</th>\n",
       "      <th>Column720</th>\n",
       "      <th>Column721</th>\n",
       "      <th>Column722</th>\n",
       "      <th>Column723</th>\n",
       "      <th>Column724</th>\n",
       "      <th>Column725</th>\n",
       "    </tr>\n",
       "    <tr>\n",
       "      <th>Column5</th>\n",
       "      <th></th>\n",
       "      <th></th>\n",
       "      <th></th>\n",
       "      <th></th>\n",
       "      <th></th>\n",
       "      <th></th>\n",
       "      <th></th>\n",
       "      <th></th>\n",
       "      <th></th>\n",
       "      <th></th>\n",
       "      <th></th>\n",
       "      <th></th>\n",
       "      <th></th>\n",
       "      <th></th>\n",
       "      <th></th>\n",
       "      <th></th>\n",
       "      <th></th>\n",
       "      <th></th>\n",
       "      <th></th>\n",
       "      <th></th>\n",
       "      <th></th>\n",
       "    </tr>\n",
       "  </thead>\n",
       "  <tbody>\n",
       "    <tr>\n",
       "      <th>Well</th>\n",
       "      <td>0</td>\n",
       "      <td>1.05</td>\n",
       "      <td>1.58</td>\n",
       "      <td>2.09</td>\n",
       "      <td>2.63</td>\n",
       "      <td>3.14</td>\n",
       "      <td>3.67</td>\n",
       "      <td>4.19</td>\n",
       "      <td>4.72</td>\n",
       "      <td>5.23</td>\n",
       "      <td>...</td>\n",
       "      <td>378.48</td>\n",
       "      <td>379.02</td>\n",
       "      <td>379.55</td>\n",
       "      <td>380.08</td>\n",
       "      <td>380.61</td>\n",
       "      <td>381.16</td>\n",
       "      <td>381.69</td>\n",
       "      <td>382.23</td>\n",
       "      <td>382.77</td>\n",
       "      <td>383.3</td>\n",
       "    </tr>\n",
       "    <tr>\n",
       "      <th>A1</th>\n",
       "      <td>6286</td>\n",
       "      <td>6311.00</td>\n",
       "      <td>6305.00</td>\n",
       "      <td>6307.00</td>\n",
       "      <td>6320.00</td>\n",
       "      <td>6316.00</td>\n",
       "      <td>6333.00</td>\n",
       "      <td>6355.00</td>\n",
       "      <td>6348.00</td>\n",
       "      <td>6346.00</td>\n",
       "      <td>...</td>\n",
       "      <td>6915.00</td>\n",
       "      <td>6932.00</td>\n",
       "      <td>6933.00</td>\n",
       "      <td>6917.00</td>\n",
       "      <td>6928.00</td>\n",
       "      <td>6917.00</td>\n",
       "      <td>6950.00</td>\n",
       "      <td>6944.00</td>\n",
       "      <td>6956.00</td>\n",
       "      <td>6917.0</td>\n",
       "    </tr>\n",
       "    <tr>\n",
       "      <th>A2</th>\n",
       "      <td>6425</td>\n",
       "      <td>6492.00</td>\n",
       "      <td>6492.00</td>\n",
       "      <td>6478.00</td>\n",
       "      <td>6512.00</td>\n",
       "      <td>6494.00</td>\n",
       "      <td>6512.00</td>\n",
       "      <td>6513.00</td>\n",
       "      <td>6515.00</td>\n",
       "      <td>6539.00</td>\n",
       "      <td>...</td>\n",
       "      <td>7285.00</td>\n",
       "      <td>7279.00</td>\n",
       "      <td>7294.00</td>\n",
       "      <td>7276.00</td>\n",
       "      <td>7289.00</td>\n",
       "      <td>7285.00</td>\n",
       "      <td>7284.00</td>\n",
       "      <td>7305.00</td>\n",
       "      <td>7281.00</td>\n",
       "      <td>7299.0</td>\n",
       "    </tr>\n",
       "    <tr>\n",
       "      <th>A3</th>\n",
       "      <td>7635</td>\n",
       "      <td>7692.00</td>\n",
       "      <td>7710.00</td>\n",
       "      <td>7740.00</td>\n",
       "      <td>7758.00</td>\n",
       "      <td>7727.00</td>\n",
       "      <td>7757.00</td>\n",
       "      <td>7758.00</td>\n",
       "      <td>7744.00</td>\n",
       "      <td>7776.00</td>\n",
       "      <td>...</td>\n",
       "      <td>8074.00</td>\n",
       "      <td>8085.00</td>\n",
       "      <td>8074.00</td>\n",
       "      <td>8074.00</td>\n",
       "      <td>8056.00</td>\n",
       "      <td>8067.00</td>\n",
       "      <td>8094.00</td>\n",
       "      <td>8080.00</td>\n",
       "      <td>8062.00</td>\n",
       "      <td>8090.0</td>\n",
       "    </tr>\n",
       "    <tr>\n",
       "      <th>A4</th>\n",
       "      <td>7023</td>\n",
       "      <td>7051.00</td>\n",
       "      <td>7063.00</td>\n",
       "      <td>7098.00</td>\n",
       "      <td>7095.00</td>\n",
       "      <td>7104.00</td>\n",
       "      <td>7117.00</td>\n",
       "      <td>7104.00</td>\n",
       "      <td>7106.00</td>\n",
       "      <td>7114.00</td>\n",
       "      <td>...</td>\n",
       "      <td>7358.00</td>\n",
       "      <td>7379.00</td>\n",
       "      <td>7345.00</td>\n",
       "      <td>7361.00</td>\n",
       "      <td>7339.00</td>\n",
       "      <td>7362.00</td>\n",
       "      <td>7358.00</td>\n",
       "      <td>7371.00</td>\n",
       "      <td>7367.00</td>\n",
       "      <td>7368.0</td>\n",
       "    </tr>\n",
       "  </tbody>\n",
       "</table>\n",
       "<p>5 rows × 720 columns</p>\n",
       "</div>"
      ],
      "text/plain": [
       "         Column6  Column7  Column8  Column9  Column10  Column11  Column12  \\\n",
       "Column5                                                                     \n",
       "Well           0     1.05     1.58     2.09      2.63      3.14      3.67   \n",
       "A1          6286  6311.00  6305.00  6307.00   6320.00   6316.00   6333.00   \n",
       "A2          6425  6492.00  6492.00  6478.00   6512.00   6494.00   6512.00   \n",
       "A3          7635  7692.00  7710.00  7740.00   7758.00   7727.00   7757.00   \n",
       "A4          7023  7051.00  7063.00  7098.00   7095.00   7104.00   7117.00   \n",
       "\n",
       "         Column13  Column14  Column15  ...  Column716  Column717  Column718  \\\n",
       "Column5                                ...                                    \n",
       "Well         4.19      4.72      5.23  ...     378.48     379.02     379.55   \n",
       "A1        6355.00   6348.00   6346.00  ...    6915.00    6932.00    6933.00   \n",
       "A2        6513.00   6515.00   6539.00  ...    7285.00    7279.00    7294.00   \n",
       "A3        7758.00   7744.00   7776.00  ...    8074.00    8085.00    8074.00   \n",
       "A4        7104.00   7106.00   7114.00  ...    7358.00    7379.00    7345.00   \n",
       "\n",
       "         Column719  Column720  Column721  Column722  Column723  Column724  \\\n",
       "Column5                                                                     \n",
       "Well        380.08     380.61     381.16     381.69     382.23     382.77   \n",
       "A1         6917.00    6928.00    6917.00    6950.00    6944.00    6956.00   \n",
       "A2         7276.00    7289.00    7285.00    7284.00    7305.00    7281.00   \n",
       "A3         8074.00    8056.00    8067.00    8094.00    8080.00    8062.00   \n",
       "A4         7361.00    7339.00    7362.00    7358.00    7371.00    7367.00   \n",
       "\n",
       "         Column725  \n",
       "Column5             \n",
       "Well         383.3  \n",
       "A1          6917.0  \n",
       "A2          7299.0  \n",
       "A3          8090.0  \n",
       "A4          7368.0  \n",
       "\n",
       "[5 rows x 720 columns]"
      ]
     },
     "execution_count": 3,
     "metadata": {},
     "output_type": "execute_result"
    }
   ],
   "source": [
    "df = pd.read_csv('Ca-Data-BrainZell.csv', index_col=0)\n",
    "print(df.shape)\n",
    "df.head()"
   ]
  },
  {
   "cell_type": "code",
   "execution_count": 4,
   "id": "ddac9d12",
   "metadata": {},
   "outputs": [
    {
     "data": {
      "text/plain": [
       "<matplotlib.collections.PathCollection at 0x23d74083580>"
      ]
     },
     "execution_count": 4,
     "metadata": {},
     "output_type": "execute_result"
    },
    {
     "data": {
      "image/png": "[encoded data removed]",
      "text/plain": [
       "<Figure size 432x288 with 1 Axes>"
      ]
     },
     "metadata": {},
     "output_type": "display_data"
    }
   ],
   "source": [
    "plt.scatter(df.loc[['Well'],], df.loc[['A1'],], marker='.')"
   ]
  },
  {
   "cell_type": "code",
   "execution_count": 5,
   "id": "0fae6549",
   "metadata": {},
   "outputs": [
    {
     "data": {
      "text/plain": [
       "<matplotlib.collections.PathCollection at 0x23d743da340>"
      ]
     },
     "execution_count": 5,
     "metadata": {},
     "output_type": "execute_result"
    },
    {
     "data": {
      "image/png": "[encoded data removed]",
      "text/plain": [
       "<Figure size 432x288 with 1 Axes>"
      ]
     },
     "metadata": {},
     "output_type": "display_data"
    }
   ],
   "source": [
    "plt.scatter(df.loc[['Well'],], df.loc[['N1'],], marker='.')"
   ]
  },
  {
   "cell_type": "code",
   "execution_count": 6,
   "id": "493bca47",
   "metadata": {},
   "outputs": [],
   "source": [
    "def sin_func(x, a, b, c, d):\n",
    "    def sin_rule(x, a, b, c, d):\n",
    "        y = a * math.sin(b - x) + c * x**2 + d\n",
    "        return y\n",
    "    apply_sin_func = np.vectorize(sin_rule, excluded=['a', 'b', 'c', 'd'])\n",
    "    y_predicted = apply_sin_func(x, a, b, c, d)\n",
    "    return y_predicted"
   ]
  },
  {
   "cell_type": "code",
   "execution_count": 7,
   "id": "9623b7b6",
   "metadata": {},
   "outputs": [],
   "source": [
    "x, y = df.loc[['Well'],].values[0], df.loc[['A1'],].values[0]"
   ]
  },
  {
   "cell_type": "code",
   "execution_count": 8,
   "id": "a70a5066",
   "metadata": {},
   "outputs": [
    {
     "data": {
      "text/plain": [
       "array([  0.  ,   1.05,   1.58,   2.09,   2.63,   3.14,   3.67,   4.19,\n",
       "         4.72,   5.23,   5.76,   6.28,   6.81,   7.33,   7.86,   8.38,\n",
       "         8.91,   9.44,   9.97,  10.5 ,  11.02,  11.55,  12.06,  12.59,\n",
       "        13.11,  13.64,  14.16,  14.69,  15.2 ,  15.73,  16.26,  16.78,\n",
       "        17.31,  17.83,  18.36,  18.88,  19.41,  19.92,  20.45,  21.  ,\n",
       "        21.51,  22.05,  22.56,  23.09,  23.61,  24.14,  24.66,  25.19,\n",
       "        25.72,  26.23,  26.76,  27.28,  27.81,  28.34,  28.86,  29.39,\n",
       "        29.91,  30.44,  30.98,  31.5 ,  32.03,  32.55,  33.08,  33.61,\n",
       "        34.13,  34.66,  35.19,  35.7 ,  36.23,  36.75,  37.28,  37.81,\n",
       "        38.33,  38.86,  39.38,  39.91,  40.44,  40.97,  41.5 ,  42.03,\n",
       "        42.55,  43.08,  43.61,  44.13,  44.66,  45.19,  45.7 ,  46.23,\n",
       "        46.76,  47.28,  47.81,  48.34,  48.86,  49.39,  49.92,  50.44,\n",
       "        50.98,  51.51,  52.03,  52.56,  53.09,  53.61,  54.14,  54.67,\n",
       "        55.19,  55.72,  56.25,  56.76,  57.3 ,  57.83,  58.34,  58.88,\n",
       "        59.41,  59.94,  60.45,  61.  ,  61.53,  62.16,  62.67,  63.2 ,\n",
       "        63.83,  64.34,  64.88,  65.41,  65.92,  66.45,  67.  ,  67.51,\n",
       "        68.05,  68.58,  69.11,  69.63,  70.16,  70.69,  71.22,  71.73,\n",
       "        72.26,  72.8 ,  73.33,  73.84,  74.38,  74.91,  75.44,  75.98,\n",
       "        76.5 ,  77.13,  77.64,  78.17,  78.7 ,  79.23,  79.76,  80.28,\n",
       "        80.81,  81.34,  81.88,  82.41,  82.92,  83.45,  84.  ,  84.53,\n",
       "        85.06,  85.59,  86.11,  86.64,  87.17,  87.7 ,  88.23,  88.75,\n",
       "        89.28,  89.81,  90.34,  90.88,  91.41,  91.92,  92.45,  93.  ,\n",
       "        93.53,  94.06,  94.58,  95.11,  95.64,  96.17,  96.7 ,  97.23,\n",
       "        97.75,  98.28,  98.81,  99.34,  99.88, 100.41, 100.94, 101.47,\n",
       "       102.  , 102.53, 103.06, 103.59, 104.13, 104.66, 105.19, 105.7 ,\n",
       "       106.23, 106.76, 107.3 , 107.83, 108.36, 108.89, 109.42, 110.01,\n",
       "       110.55, 111.08, 111.61, 112.14, 112.67, 113.2 , 113.73, 114.25,\n",
       "       114.78, 115.31, 115.84, 116.38, 116.91, 117.44, 117.98, 118.51,\n",
       "       119.05, 119.58, 120.11, 120.64, 121.17, 121.7 , 122.23, 122.76,\n",
       "       123.3 , 123.81, 124.34, 124.88, 125.44, 125.98, 126.51, 127.05,\n",
       "       127.58, 128.11, 128.63, 129.16, 129.69, 130.22, 130.75, 131.28,\n",
       "       131.81, 132.34, 132.88, 133.41, 133.94, 134.47, 135.01, 135.55,\n",
       "       136.08, 136.61, 137.14, 137.67, 138.2 , 138.73, 139.26, 139.8 ,\n",
       "       140.33, 140.86, 141.39, 141.92, 142.45, 143.  , 143.53, 144.06,\n",
       "       144.59, 145.13, 145.66, 146.19, 146.72, 147.25, 147.78, 148.33,\n",
       "       148.86, 149.39, 149.92, 150.45, 151.  , 151.55, 152.08, 152.61,\n",
       "       153.14, 153.67, 154.2 , 154.75, 155.28, 155.81, 156.34, 156.88,\n",
       "       157.41, 157.94, 158.47, 159.01, 159.55, 160.08, 160.63, 161.16,\n",
       "       161.69, 162.22, 162.75, 163.28, 163.83, 164.36, 164.89, 165.42,\n",
       "       165.95, 166.48, 167.05, 167.58, 168.11, 168.64, 169.17, 169.7 ,\n",
       "       170.23, 170.76, 171.3 , 171.83, 172.36, 172.91, 173.44, 173.97,\n",
       "       174.5 , 175.05, 175.58, 176.13, 176.66, 177.19, 177.72, 178.25,\n",
       "       178.78, 179.33, 179.86, 180.39, 180.92, 181.45, 182.  , 182.53,\n",
       "       183.08, 183.61, 184.14, 184.67, 185.2 , 185.73, 186.26, 186.8 ,\n",
       "       187.33, 187.88, 188.41, 188.94, 189.47, 190.  , 190.53, 191.08,\n",
       "       191.63, 192.16, 192.69, 193.22, 193.75, 194.3 , 194.83, 195.34,\n",
       "       195.89, 196.41, 196.94, 197.48, 198.01, 198.55, 199.09, 199.63,\n",
       "       200.16, 200.7 , 201.23, 201.76, 202.28, 202.81, 203.34, 203.89,\n",
       "       204.42, 204.95, 205.48, 206.01, 206.56, 207.11, 207.64, 208.17,\n",
       "       208.7 , 209.23, 209.76, 210.3 , 210.83, 211.36, 211.89, 212.42,\n",
       "       212.97, 213.5 , 214.03, 214.56, 215.11, 215.64, 216.17, 216.7 ,\n",
       "       217.23, 217.76, 218.3 , 218.83, 219.38, 219.91, 220.44, 220.97,\n",
       "       221.5 , 222.05, 222.58, 223.13, 223.66, 224.19, 224.72, 225.25,\n",
       "       225.78, 226.31, 226.84, 227.38, 227.91, 228.45, 228.98, 229.51,\n",
       "       230.05, 230.58, 231.13, 231.67, 232.2 , 232.73, 233.26, 233.8 ,\n",
       "       234.33, 234.86, 235.39, 235.92, 236.45, 236.98, 237.53, 238.06,\n",
       "       238.59, 239.14, 239.67, 240.2 , 240.75, 241.28, 241.81, 242.34,\n",
       "       242.88, 243.41, 243.94, 244.47, 245.  , 245.53, 246.06, 246.61,\n",
       "       247.16, 247.69, 248.22, 248.75, 249.28, 249.83, 250.36, 250.89,\n",
       "       251.42, 251.95, 252.48, 253.01, 253.55, 254.08, 254.61, 255.16,\n",
       "       255.69, 256.23, 256.77, 257.3 , 257.83, 258.36, 258.89, 259.42,\n",
       "       259.95, 260.48, 261.02, 261.55, 262.11, 262.64, 263.17, 263.7 ,\n",
       "       264.23, 264.77, 265.3 , 265.83, 266.36, 266.89, 267.42, 267.95,\n",
       "       268.5 , 269.03, 269.56, 270.11, 270.64, 271.19, 271.72, 272.25,\n",
       "       272.78, 273.31, 273.84, 274.38, 274.91, 275.44, 275.97, 276.5 ,\n",
       "       277.03, 277.58, 278.13, 278.66, 279.19, 279.72, 280.25, 280.78,\n",
       "       281.31, 281.84, 282.38, 282.91, 283.45, 283.98, 284.52, 285.05,\n",
       "       285.58, 286.13, 286.67, 287.2 , 287.73, 288.27, 288.8 , 289.33,\n",
       "       289.86, 290.39, 290.92, 291.45, 291.98, 292.52, 293.06, 293.59,\n",
       "       294.14, 294.67, 295.2 , 295.75, 296.28, 296.81, 297.34, 297.88,\n",
       "       298.41, 298.94, 299.47, 300.  , 300.53, 301.06, 301.59, 302.16,\n",
       "       302.69, 303.22, 303.75, 304.28, 304.81, 305.36, 305.89, 306.42,\n",
       "       306.95, 307.48, 308.02, 308.55, 309.08, 309.63, 310.16, 310.69,\n",
       "       311.23, 311.77, 312.3 , 312.83, 313.36, 313.89, 314.44, 314.95,\n",
       "       315.48, 316.02, 316.55, 317.08, 317.64, 318.17, 318.7 , 319.23,\n",
       "       319.77, 320.31, 320.84, 321.38, 321.91, 322.44, 322.97, 323.5 ,\n",
       "       324.03, 324.56, 325.11, 325.64, 326.17, 326.72, 327.25, 327.78,\n",
       "       328.31, 328.84, 329.38, 329.92, 330.45, 330.98, 331.52, 332.05,\n",
       "       332.58, 333.13, 333.66, 334.19, 334.72, 335.25, 335.8 , 336.33,\n",
       "       336.86, 337.39, 337.92, 338.45, 338.98, 339.52, 340.05, 340.58,\n",
       "       341.13, 341.66, 342.2 , 342.73, 343.27, 343.8 , 344.33, 344.88,\n",
       "       345.41, 345.94, 346.45, 346.98, 347.53, 348.06, 348.59, 349.14,\n",
       "       349.67, 350.2 , 350.73, 351.28, 351.81, 352.33, 352.86, 353.39,\n",
       "       353.92, 354.47, 355.  , 355.53, 356.06, 356.59, 357.16, 357.67,\n",
       "       358.2 , 358.73, 359.28, 359.81, 360.34, 360.88, 361.41, 361.94,\n",
       "       362.47, 363.  , 363.53, 364.06, 364.59, 365.14, 365.67, 366.2 ,\n",
       "       366.75, 367.28, 367.81, 368.34, 368.88, 369.41, 369.94, 370.47,\n",
       "       371.  , 371.53, 372.06, 372.61, 373.16, 373.69, 374.22, 374.75,\n",
       "       375.28, 375.83, 376.36, 376.89, 377.42, 377.95, 378.48, 379.02,\n",
       "       379.55, 380.08, 380.61, 381.16, 381.69, 382.23, 382.77, 383.3 ])"
      ]
     },
     "execution_count": 8,
     "metadata": {},
     "output_type": "execute_result"
    }
   ],
   "source": [
    "x"
   ]
  },
  {
   "cell_type": "code",
   "execution_count": 9,
   "id": "b51dcf0e",
   "metadata": {},
   "outputs": [
    {
     "data": {
      "text/plain": [
       "array([6286., 6311., 6305., 6307., 6320., 6316., 6333., 6355., 6348.,\n",
       "       6346., 6334., 6327., 6330., 6357., 6342., 6354., 6361., 6352.,\n",
       "       6347., 6348., 6333., 6357., 6347., 6365., 6359., 6357., 6360.,\n",
       "       6384., 6364., 6364., 6391., 6366., 6364., 6384., 6381., 6393.,\n",
       "       6377., 6393., 6387., 6387., 6378., 6402., 6387., 6379., 6383.,\n",
       "       6396., 6391., 6424., 6379., 6393., 6389., 6387., 6415., 6382.,\n",
       "       6414., 6409., 6386., 6400., 6423., 6410., 6411., 6404., 6393.,\n",
       "       6411., 6395., 6398., 6398., 6402., 6404., 6418., 6409., 6425.,\n",
       "       6420., 6410., 6427., 6420., 6401., 6419., 6418., 6434., 6416.,\n",
       "       6416., 6424., 6440., 6414., 6424., 6409., 6442., 6418., 6443.,\n",
       "       6424., 6427., 6428., 6447., 6428., 6406., 6425., 6432., 6437.,\n",
       "       6447., 6420., 6428., 6447., 6436., 6447., 6446., 6436., 6452.,\n",
       "       6451., 6425., 6425., 6442., 6429., 6452., 6441., 6442., 6433.,\n",
       "       6455., 6429., 6451., 6454., 6432., 6428., 6447., 6461., 6461.,\n",
       "       6450., 6407., 6491., 6645., 6763., 6896., 6981., 7067., 7110.,\n",
       "       7180., 7167., 7189., 7203., 7205., 7230., 7216., 7208., 7223.,\n",
       "       7217., 7201., 7209., 7205., 7204., 7178., 7195., 7191., 7181.,\n",
       "       7187., 7183., 7164., 7136., 7150., 7145., 7148., 7137., 7141.,\n",
       "       7123., 7126., 7113., 7130., 7119., 7130., 7105., 7103., 7083.,\n",
       "       7105., 7063., 7082., 7059., 7080., 7087., 7056., 7054., 7036.,\n",
       "       7049., 7045., 7023., 7040., 7042., 7017., 7032., 7013., 7035.,\n",
       "       7018., 7013., 7031., 7004., 6997., 7009., 6987., 6973., 6991.,\n",
       "       6977., 6983., 6992., 6971., 6960., 6962., 6950., 6950., 6956.,\n",
       "       6938., 6955., 6955., 6937., 6949., 6942., 6931., 6933., 6944.,\n",
       "       6926., 6928., 6927., 6954., 6909., 6936., 6922., 6914., 6912.,\n",
       "       6897., 6935., 6912., 6905., 6908., 6891., 6900., 6895., 6891.,\n",
       "       6904., 6906., 6895., 6885., 6899., 6897., 6874., 6879., 6894.,\n",
       "       6867., 6862., 6870., 6896., 6888., 6873., 6862., 6886., 6874.,\n",
       "       6890., 6872., 6870., 6882., 6868., 6869., 6856., 6846., 6855.,\n",
       "       6846., 6840., 6860., 6863., 6872., 6838., 6859., 6858., 6841.,\n",
       "       6867., 6853., 6865., 6859., 6836., 6833., 6865., 6858., 6850.,\n",
       "       6847., 6846., 6840., 6853., 6854., 6828., 6853., 6831., 6820.,\n",
       "       6841., 6858., 6813., 6835., 6833., 6826., 6838., 6850., 6831.,\n",
       "       6836., 6837., 6845., 6835., 6836., 6828., 6827., 6836., 6831.,\n",
       "       6837., 6824., 6853., 6829., 6819., 6815., 6846., 6826., 6826.,\n",
       "       6832., 6817., 6815., 6822., 6837., 6824., 6827., 6849., 6819.,\n",
       "       6811., 6811., 6827., 6824., 6853., 6823., 6818., 6829., 6833.,\n",
       "       6837., 6808., 6815., 6837., 6833., 6817., 6833., 6810., 6823.,\n",
       "       6814., 6811., 6833., 6827., 6809., 6828., 6819., 6822., 6819.,\n",
       "       6846., 6833., 6823., 6822., 6795., 6810., 6814., 6827., 6820.,\n",
       "       6846., 6806., 6854., 6823., 6832., 6828., 6835., 6827., 6828.,\n",
       "       6806., 6817., 6827., 6828., 6823., 6823., 6833., 6840., 6819.,\n",
       "       6835., 6837., 6819., 6819., 6814., 6847., 6838., 6815., 6822.,\n",
       "       6838., 6814., 6810., 6824., 6833., 6823., 6827., 6841., 6844.,\n",
       "       6831., 6831., 6829., 6826., 6836., 6832., 6829., 6818., 6833.,\n",
       "       6827., 6831., 6823., 6820., 6822., 6814., 6823., 6842., 6813.,\n",
       "       6836., 6840., 6832., 6829., 6847., 6845., 6838., 6823., 6838.,\n",
       "       6842., 6829., 6853., 6806., 6831., 6810., 6835., 6869., 6828.,\n",
       "       6864., 6827., 6847., 6823., 6811., 6831., 6847., 6841., 6832.,\n",
       "       6851., 6845., 6838., 6841., 6851., 6835., 6847., 6847., 6863.,\n",
       "       6835., 6826., 6836., 6838., 6847., 6855., 6859., 6842., 6847.,\n",
       "       6836., 6855., 6846., 6842., 6829., 6854., 6853., 6849., 6844.,\n",
       "       6851., 6837., 6836., 6845., 6867., 6868., 6859., 6835., 6846.,\n",
       "       6859., 6858., 6855., 6874., 6863., 6869., 6854., 6864., 6868.,\n",
       "       6845., 6840., 6838., 6853., 6827., 6850., 6844., 6855., 6860.,\n",
       "       6846., 6849., 6867., 6867., 6876., 6859., 6881., 6860., 6867.,\n",
       "       6858., 6873., 6849., 6832., 6878., 6851., 6864., 6878., 6846.,\n",
       "       6867., 6874., 6851., 6876., 6870., 6886., 6868., 6868., 6874.,\n",
       "       6847., 6881., 6879., 6869., 6863., 6851., 6876., 6874., 6851.,\n",
       "       6872., 6876., 6851., 6874., 6854., 6868., 6869., 6863., 6890.,\n",
       "       6886., 6870., 6851., 6873., 6855., 6882., 6887., 6896., 6878.,\n",
       "       6863., 6858., 6881., 6859., 6881., 6854., 6887., 6873., 6879.,\n",
       "       6878., 6874., 6864., 6877., 6878., 6887., 6881., 6863., 6883.,\n",
       "       6914., 6878., 6894., 6892., 6915., 6888., 6882., 6872., 6891.,\n",
       "       6883., 6867., 6894., 6864., 6909., 6891., 6910., 6890., 6891.,\n",
       "       6891., 6913., 6892., 6901., 6883., 6878., 6897., 6897., 6883.,\n",
       "       6903., 6873., 6885., 6886., 6883., 6891., 6887., 6886., 6895.,\n",
       "       6915., 6901., 6910., 6918., 6904., 6888., 6913., 6904., 6881.,\n",
       "       6891., 6887., 6890., 6903., 6896., 6912., 6901., 6881., 6905.,\n",
       "       6909., 6895., 6888., 6905., 6905., 6899., 6918., 6896., 6919.,\n",
       "       6905., 6905., 6906., 6891., 6891., 6908., 6918., 6915., 6904.,\n",
       "       6912., 6913., 6914., 6908., 6912., 6938., 6929., 6917., 6927.,\n",
       "       6919., 6926., 6919., 6922., 6932., 6928., 6922., 6922., 6917.,\n",
       "       6915., 6942., 6917., 6931., 6927., 6927., 6931., 6935., 6950.,\n",
       "       6897., 6932., 6923., 6936., 6917., 6914., 6905., 6915., 6927.,\n",
       "       6903., 6904., 6938., 6913., 6917., 6922., 6927., 6915., 6923.,\n",
       "       6908., 6935., 6924., 6935., 6929., 6938., 6933., 6918., 6940.,\n",
       "       6942., 6928., 6927., 6935., 6937., 6928., 6940., 6917., 6928.,\n",
       "       6910., 6924., 6921., 6923., 6929., 6938., 6927., 6927., 6915.,\n",
       "       6932., 6933., 6917., 6928., 6917., 6950., 6944., 6956., 6917.])"
      ]
     },
     "execution_count": 9,
     "metadata": {},
     "output_type": "execute_result"
    }
   ],
   "source": [
    "y"
   ]
  },
  {
   "cell_type": "code",
   "execution_count": 10,
   "id": "d5865bbc",
   "metadata": {},
   "outputs": [],
   "source": [
    "popt, _ = curve_fit(sin_func, x, y)"
   ]
  },
  {
   "cell_type": "code",
   "execution_count": 11,
   "id": "824aab62",
   "metadata": {},
   "outputs": [],
   "source": [
    "a, b, c, d = popt"
   ]
  },
  {
   "cell_type": "code",
   "execution_count": 12,
   "id": "3ac44701",
   "metadata": {},
   "outputs": [
    {
     "data": {
      "text/plain": [
       "-0.38929814736584445"
      ]
     },
     "execution_count": 12,
     "metadata": {},
     "output_type": "execute_result"
    }
   ],
   "source": [
    "a"
   ]
  },
  {
   "cell_type": "code",
   "execution_count": 13,
   "id": "457d5f41",
   "metadata": {},
   "outputs": [
    {
     "data": {
      "text/plain": [
       "-0.06884241395883978"
      ]
     },
     "execution_count": 13,
     "metadata": {},
     "output_type": "execute_result"
    }
   ],
   "source": [
    "b"
   ]
  },
  {
   "cell_type": "code",
   "execution_count": 14,
   "id": "4e9d01c0",
   "metadata": {},
   "outputs": [
    {
     "data": {
      "text/plain": [
       "0.0019416559328609378"
      ]
     },
     "execution_count": 14,
     "metadata": {},
     "output_type": "execute_result"
    }
   ],
   "source": [
    "c"
   ]
  },
  {
   "cell_type": "code",
   "execution_count": 15,
   "id": "1221addb",
   "metadata": {},
   "outputs": [
    {
     "data": {
      "text/plain": [
       "6713.2486806046345"
      ]
     },
     "execution_count": 15,
     "metadata": {},
     "output_type": "execute_result"
    }
   ],
   "source": [
    "d"
   ]
  },
  {
   "cell_type": "code",
   "execution_count": 16,
   "id": "edb46666",
   "metadata": {},
   "outputs": [
    {
     "name": "stdout",
     "output_type": "stream",
     "text": [
      "[-3.89298147e-01 -6.88424140e-02  1.94165593e-03  6.71324868e+03]\n"
     ]
    }
   ],
   "source": [
    "print(popt)"
   ]
  },
  {
   "cell_type": "code",
   "execution_count": 18,
   "id": "fa59b42e",
   "metadata": {},
   "outputs": [
    {
     "data": {
      "text/plain": [
       "<matplotlib.collections.PathCollection at 0x23d749a0df0>"
      ]
     },
     "execution_count": 18,
     "metadata": {},
     "output_type": "execute_result"
    },
    {
     "data": {
      "image/png": "[encoded data removed]",
      "text/plain": [
       "<Figure size 432x288 with 1 Axes>"
      ]
     },
     "metadata": {},
     "output_type": "display_data"
    }
   ],
   "source": [
    "plt.scatter(x, y)"
   ]
  },
  {
   "cell_type": "code",
   "execution_count": 20,
   "id": "b5014ce6",
   "metadata": {},
   "outputs": [
    {
     "data": {
      "text/plain": [
       "array([6713.27545966, 6713.60103214, 6713.64164086, 6713.5810682 ,\n",
       "       6713.42889635, 6713.24166408, 6713.05590279, 6712.93282887,\n",
       "       6712.90377664, 6712.97754074, 6713.14224805, 6713.35079824,\n",
       "       6713.55714386, 6713.70267117, 6713.75684315, 6713.70745928,\n",
       "       6713.5707301 , 6713.38902095, 6713.21737164, 6713.108361  ,\n",
       "       6713.09686994, 6713.19160191, 6713.36613571, 6713.59239661,\n",
       "       6713.80620137, 6713.96405501, 6714.02565688, 6713.98414433,\n",
       "       6713.86278852, 6713.69377976, 6713.53555598, 6713.44151744,\n",
       "       6713.44312076, 6713.54912767, 6713.74419865, 6713.97938098,\n",
       "       6714.20932425, 6714.37275536, 6714.44809749, 6714.41522018,\n",
       "       6714.303047  , 6714.14314258, 6714.00512703, 6713.9257755 ,\n",
       "       6713.94438066, 6714.06951701, 6714.2764352 , 6714.52969235,\n",
       "       6714.77060612, 6714.94241654, 6715.02534166, 6715.00467454,\n",
       "       6714.90033142, 6714.75592627, 6714.62889225, 6714.56521649,\n",
       "       6714.59987852, 6714.74115222, 6714.97248779, 6715.23458684,\n",
       "       6715.48633558, 6715.66912079, 6715.75760172, 6715.74175621,\n",
       "       6715.64708939, 6715.51485215, 6715.40191672, 6715.35888657,\n",
       "       6715.41367166, 6715.57089426, 6715.81360291, 6716.09405704,\n",
       "       6716.35205247, 6716.54764853, 6716.64285292, 6716.63686505,\n",
       "       6716.55088721, 6716.43119849, 6716.33362705, 6716.30823172,\n",
       "       6716.38309351, 6716.56399219, 6716.82505455, 6717.11361523,\n",
       "       6717.38571871, 6717.58637224, 6717.68408239, 6717.68438332,\n",
       "       6717.60730878, 6717.50221826, 6717.42014199, 6717.41235396,\n",
       "       6717.50532066, 6717.70404173, 6717.98097256, 6718.2824364 ,\n",
       "       6718.5696812 , 6718.77690681, 6718.88093398, 6718.88590503,\n",
       "       6718.81697838, 6718.72456111, 6718.6602009 , 6718.67368939,\n",
       "       6718.78880804, 6719.00882895, 6719.3035163 , 6719.61175895,\n",
       "       6719.90838021, 6720.12204   , 6720.23032623, 6720.24302544,\n",
       "       6720.18354148, 6720.10273298, 6720.05698209, 6720.09145364,\n",
       "       6720.23237599, 6720.53019757, 6720.8384337 , 6721.16887668,\n",
       "       6721.50043724, 6721.67571931, 6721.75457351, 6721.74078661,\n",
       "       6721.68004872, 6721.62031015, 6721.61864526, 6721.70890674,\n",
       "       6721.91332516, 6722.20572244, 6722.54722428, 6722.87706459,\n",
       "       6723.15568729, 6723.33954417, 6723.41795851, 6723.41093128,\n",
       "       6723.35896448, 6723.31542506, 6723.33543753, 6723.44725114,\n",
       "       6723.67414662, 6723.98577818, 6724.34199632, 6724.69357307,\n",
       "       6724.97027695, 6725.17872568, 6725.2404546 , 6725.22867176,\n",
       "       6725.18631352, 6725.16929688, 6725.22688476, 6725.38411369,\n",
       "       6725.6482305 , 6725.99025537, 6726.36906602, 6726.71382679,\n",
       "       6726.9748507 , 6727.14572451, 6727.21554801, 6727.20897113,\n",
       "       6727.17974086, 6727.18376376, 6727.26558872, 6727.45356276,\n",
       "       6727.74418824, 6728.10679937, 6728.49127785, 6728.83581581,\n",
       "       6729.10800554, 6729.27632145, 6729.34514866, 6729.34615708,\n",
       "       6729.33100661, 6729.35358285, 6729.45957832, 6729.68227317,\n",
       "       6729.99874819, 6730.38086836, 6730.7695046 , 6731.12504584,\n",
       "       6731.3959827 , 6731.56183496, 6731.63125541, 6731.63965566,\n",
       "       6731.63922488, 6731.68426307, 6731.81786394, 6732.05902049,\n",
       "       6732.40463277, 6732.80450011, 6733.21102336, 6733.56951236,\n",
       "       6733.83875617, 6734.00233076, 6734.07310556, 6734.08971227,\n",
       "       6734.10661241, 6734.17813051, 6734.34372798, 6734.60503845,\n",
       "       6734.96805734, 6735.38480721, 6735.80856464, 6736.16911563,\n",
       "       6736.43631336, 6736.5978869 , 6736.67084641, 6736.69918775,\n",
       "       6736.73860776, 6736.84446055, 6737.05069315, 6737.36359799,\n",
       "       6737.76049743, 6738.1959662 , 6738.61429546, 6738.95902767,\n",
       "       6739.21188541, 6739.36075547, 6739.42975921, 6739.4659392 ,\n",
       "       6739.52465875, 6739.65648837, 6739.89691242, 6740.23878031,\n",
       "       6740.66686854, 6741.1163578 , 6741.53861902, 6741.8854696 ,\n",
       "       6742.12971787, 6742.27262408, 6742.34355462, 6742.39192428,\n",
       "       6742.4758321 , 6742.6317491 , 6742.89749649, 6743.27364225,\n",
       "       6743.74096514, 6744.21087867, 6744.63303233, 6744.97701021,\n",
       "       6745.20870368, 6745.34370877, 6745.41605736, 6745.47997923,\n",
       "       6745.58889339, 6745.78600535, 6746.09061969, 6746.49284317,\n",
       "       6746.95629929, 6747.42810947, 6747.86067554, 6748.19572026,\n",
       "       6748.42511847, 6748.56141667, 6748.64435608, 6748.72735971,\n",
       "       6748.86413705, 6749.09520712, 6749.43416547, 6749.86530398,\n",
       "       6750.34792088, 6750.82748878, 6751.25061617, 6751.58488107,\n",
       "       6751.80650468, 6751.94093619, 6752.03068753, 6752.13082954,\n",
       "       6752.29388132, 6752.56740925, 6752.94005907, 6753.39842177,\n",
       "       6753.89793428, 6754.39170319, 6754.80947013, 6755.12817848,\n",
       "       6755.34278721, 6755.47711807, 6755.5773192 , 6755.70494121,\n",
       "       6755.90214016, 6756.20257719, 6756.60803181, 6757.09176747,\n",
       "       6757.62511389, 6758.12874292, 6758.53598318, 6758.8400338 ,\n",
       "       6759.04350119, 6759.17688968, 6759.29023156, 6759.44636126,\n",
       "       6759.68132622, 6760.02283566, 6760.46502494, 6760.98465269,\n",
       "       6761.5101693 , 6761.99525764, 6762.39585994, 6762.69597462,\n",
       "       6762.8964465 , 6763.03294524, 6763.16833453, 6763.34925212,\n",
       "       6763.62158169, 6764.00176121, 6764.47693541, 6765.00848318,\n",
       "       6765.5620711 , 6766.0417277 , 6766.42897903, 6766.71053726,\n",
       "       6766.90241458, 6767.04552962, 6767.20752525, 6767.42186735,\n",
       "       6767.73455532, 6768.15457891, 6768.66177578, 6769.21236378,\n",
       "       6769.75095415, 6770.22574944, 6770.60883749, 6770.87934473,\n",
       "       6771.06802149, 6771.22605471, 6771.39941278, 6771.64439581,\n",
       "       6771.99188012, 6772.46382082, 6772.99898862, 6773.58600593,\n",
       "       6774.12451756, 6774.5875193 , 6774.94788465, 6775.20694839,\n",
       "       6775.39414033, 6775.56544197, 6775.76597773, 6776.04842018,\n",
       "       6776.43699289, 6776.92709805, 6777.50840684, 6778.08595555,\n",
       "       6778.64322832, 6779.09419418, 6779.44001375, 6779.68963852,\n",
       "       6779.87871378, 6780.05979805, 6780.28794179, 6780.6125991 ,\n",
       "       6781.0399338 , 6781.58459791, 6782.16771245, 6782.75370338,\n",
       "       6783.28833327, 6783.73175672, 6784.06945343, 6784.32421296,\n",
       "       6784.52627947, 6784.72809309, 6784.99057682, 6785.35037676,\n",
       "       6785.81773612, 6786.39588387, 6786.99811335, 6787.56721924,\n",
       "       6788.11559613, 6788.53777262, 6788.86422109, 6789.11137762,\n",
       "       6789.31560121, 6789.54249241, 6789.8417605 , 6790.2468881 ,\n",
       "       6790.75114851, 6791.34706112, 6791.96451945, 6792.55799816,\n",
       "       6793.06951808, 6793.49023772, 6793.80844913, 6794.05982178,\n",
       "       6794.27612498, 6794.52358445, 6794.84989231, 6795.28140509,\n",
       "       6795.83777497, 6796.47071036, 6797.10044889, 6797.69327668,\n",
       "       6798.20394011, 6798.61002957, 6798.91812839, 6799.16630925,\n",
       "       6799.39796646, 6799.67350213, 6800.03652457, 6800.50693627,\n",
       "       6801.09844104, 6801.73059349, 6802.37018419, 6802.96243775,\n",
       "       6803.48280822, 6803.87667126, 6804.17838713, 6804.427097  ,\n",
       "       6804.67678546, 6804.9814679 , 6805.38893662, 6805.89770499,\n",
       "       6806.52214074, 6807.17415591, 6807.82007244, 6808.40699912,\n",
       "       6808.89853001, 6809.29741344, 6809.59503737, 6809.86135359,\n",
       "       6810.13417662, 6810.47490438, 6810.91650288, 6811.46455991,\n",
       "       6812.09575187, 6812.76424339, 6813.41426396, 6814.00547082,\n",
       "       6814.48452235, 6814.8664915 , 6815.16363292, 6815.4315844 ,\n",
       "       6815.73244426, 6816.10457482, 6816.60118795, 6817.19705919,\n",
       "       6817.85585529, 6818.53790644, 6819.18734711, 6819.76735328,\n",
       "       6820.23174438, 6820.59689142, 6820.89508576, 6821.17728892,\n",
       "       6821.49914948, 6821.90573392, 6822.44063012, 6823.05725573,\n",
       "       6823.73809305, 6824.45654275, 6825.10354889, 6825.66306492,\n",
       "       6826.13218849, 6826.48893514, 6826.79059534, 6827.09080521,\n",
       "       6827.45136305, 6827.89945009, 6828.4554443 , 6829.10439899,\n",
       "       6829.80615975, 6830.50638223, 6831.15144346, 6831.72188894,\n",
       "       6832.17891901, 6832.53114133, 6832.8402189 , 6833.16137252,\n",
       "       6833.54680878, 6834.05182442, 6834.64732479, 6835.32749428,\n",
       "       6836.04723913, 6836.75090597, 6837.38755231, 6837.92492446,\n",
       "       6838.36559923, 6838.71799633, 6839.03786643, 6839.39519649,\n",
       "       6839.81501701, 6840.34948632, 6840.99217918, 6841.69949065,\n",
       "       6842.43346592, 6843.13816689, 6843.76598724, 6844.29071491,\n",
       "       6844.71472431, 6845.06832484, 6845.40789959, 6845.77755141,\n",
       "       6846.25839019, 6846.82298384, 6847.48763262, 6848.2184363 ,\n",
       "       6848.96364198, 6849.68042187, 6850.29788198, 6850.81010415,\n",
       "       6851.22651404, 6851.58312616, 6851.93266197, 6852.33008388,\n",
       "       6852.83799859, 6853.43718559, 6854.13157778, 6854.91148559,\n",
       "       6855.66466208, 6856.38954362, 6856.99352208, 6857.49186356,\n",
       "       6857.90142795, 6858.26373362, 6858.63356535, 6859.07291949,\n",
       "       6859.60257377, 6860.23970939, 6860.96490457, 6861.73487453,\n",
       "       6862.49434823, 6863.21576704, 6863.8318177 , 6864.31925308,\n",
       "       6864.7259356 , 6865.09779429, 6865.49061264, 6865.95472241,\n",
       "       6866.52119332, 6867.19330794, 6867.96034619, 6868.74590638,\n",
       "       6869.52143376, 6870.20850395, 6870.80359532, 6871.28493485,\n",
       "       6871.69330598, 6872.09257584, 6872.51988645, 6873.02139834,\n",
       "       6873.62895901, 6874.35239215, 6875.13221687, 6875.92990594,\n",
       "       6876.68982805, 6877.36701394, 6877.93949529, 6878.41433253,\n",
       "       6878.82567757, 6879.23320088, 6879.68710471, 6880.22183394,\n",
       "       6880.89042964, 6881.63309735, 6882.4345762 , 6883.27131494,\n",
       "       6884.02636931, 6884.6904412 , 6885.24878616, 6885.72413403,\n",
       "       6886.13956346, 6886.55902514, 6887.03609507, 6887.60884165,\n",
       "       6888.28938028, 6889.06054905, 6889.88061772, 6890.75437946,\n",
       "       6891.50342533, 6892.15537905, 6892.70244114, 6893.16589218,\n",
       "       6893.59025376, 6894.04875508, 6894.56071796, 6895.17424321,\n",
       "       6895.89388268, 6896.6953713 , 6897.5480555 , 6898.36364157,\n",
       "       6899.10807482, 6899.77367142, 6900.31069624, 6900.77302144,\n",
       "       6901.2174378 , 6901.69372781, 6902.24094171, 6902.89349845,\n",
       "       6903.64886013, 6904.4765799 , 6905.35841803, 6906.14325249,\n",
       "       6906.88001792, 6907.52372858, 6908.05557999, 6908.52118858,\n",
       "       6908.99792733, 6909.49276567, 6910.07482933, 6910.76423767,\n",
       "       6911.56756692, 6912.43491338, 6913.29450666, 6914.12173717,\n",
       "       6914.84387947, 6915.46035789, 6915.98396096, 6916.45326016,\n",
       "       6916.92202652, 6917.44447656, 6918.0857544 , 6918.81354361,\n",
       "       6919.63326432, 6920.53719381, 6921.40321638, 6922.21061616,\n",
       "       6922.92281118, 6923.52964164, 6924.059399  , 6924.54527728,\n",
       "       6925.03597892, 6925.59255326, 6926.26248786, 6927.02772457,\n",
       "       6927.87705585, 6928.79863723, 6929.66798883, 6930.46799546,\n",
       "       6931.16772366, 6931.76405424, 6932.30116048, 6932.78894085,\n",
       "       6933.30407654, 6933.89530645, 6934.59078963, 6935.39037879,\n",
       "       6936.26566076, 6937.18466541, 6938.05657016, 6938.85096995,\n",
       "       6939.5660781 , 6940.15340435, 6940.68207108, 6941.18401936,\n",
       "       6941.73612219, 6942.36365588, 6943.09811842, 6943.96533375,\n",
       "       6944.8664482 , 6945.77892941, 6946.61620405, 6947.40204305,\n",
       "       6948.10631278, 6948.68799541, 6949.21152233, 6949.7501713 ,\n",
       "       6950.32107865, 6950.98421207, 6951.75523547, 6952.65454889,\n",
       "       6953.57593802, 6954.47922177, 6955.34618897, 6956.12052243,\n",
       "       6956.78917582, 6957.38899118, 6957.91907878, 6958.4576082 ,\n",
       "       6959.05744294, 6959.75492448, 6960.62465095, 6961.48793395,\n",
       "       6962.42661053, 6963.35281884, 6964.24560003, 6965.00565662,\n",
       "       6965.66146303, 6966.24676285, 6966.7866234 , 6967.34834453,\n",
       "       6967.98204615, 6968.71839706, 6969.56019986, 6970.48162192,\n",
       "       6971.43528355, 6972.39918384, 6973.25286966, 6974.00432854,\n",
       "       6974.67685125, 6975.2515835 , 6975.80435662, 6976.3910607 ,\n",
       "       6977.07215171, 6977.84753605, 6978.72465337, 6979.67160119,\n",
       "       6980.6376158 , 6981.56700115, 6982.41441105, 6983.18326905,\n",
       "       6983.84754702, 6984.42495578, 6984.99378203, 6985.60913101,\n",
       "       6986.31364209, 6987.15849348, 6988.07058653, 6989.04071643,\n",
       "       6990.01538421, 6990.94014506, 6991.77454726, 6992.51600899,\n",
       "       6993.15150365, 6993.73558279, 6994.3224758 , 6994.99191424,\n",
       "       6995.73450346, 6996.60184789, 6997.56205237, 6998.55136396])"
      ]
     },
     "execution_count": 20,
     "metadata": {},
     "output_type": "execute_result"
    }
   ],
   "source": [
    "y_pred_latest = sin_func(x, a, b, c, d)\n",
    "y_pred_latest"
   ]
  },
  {
   "cell_type": "code",
   "execution_count": 22,
   "id": "1e525e39",
   "metadata": {},
   "outputs": [
    {
     "data": {
      "image/png": "[encoded data removed]",
      "text/plain": [
       "<Figure size 432x288 with 1 Axes>"
      ]
     },
     "metadata": {},
     "output_type": "display_data"
    }
   ],
   "source": [
    "plt.plot(x, y, '--', color='green')\n",
    "plt.plot(x, y_pred_latest, '--', color='red')\n",
    "plt.show()"
   ]
  },
  {
   "cell_type": "code",
   "execution_count": 24,
   "id": "e7614ba8",
   "metadata": {},
   "outputs": [
    {
     "name": "stdout",
     "output_type": "stream",
     "text": [
      "R2-score: -3.93\n"
     ]
    }
   ],
   "source": [
    "from sklearn.metrics import r2_score\n",
    "print(\"R2-score: %.2f\" % r2_score(y_pred_latest , y))"
   ]
  },
  {
   "cell_type": "code",
   "execution_count": null,
   "id": "3068eaa5",
   "metadata": {},
   "outputs": [],
   "source": [
    "# The end"
   ]
  }
 ],
 "metadata": {
  "kernelspec": {
   "display_name": "Python 3 (ipykernel)",
   "language": "python",
   "name": "python3"
  },
  "language_info": {
   "codemirror_mode": {
    "name": "ipython",
    "version": 3
   },
   "file_extension": ".py",
   "mimetype": "text/x-python",
   "name": "python",
   "nbconvert_exporter": "python",
   "pygments_lexer": "ipython3",
   "version": "3.8.8"
  }
 },
 "nbformat": 4,
 "nbformat_minor": 5
}
