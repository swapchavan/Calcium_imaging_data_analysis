{
 "cells": [
  {
   "cell_type": "code",
   "execution_count": 1,
   "id": "43768a73",
   "metadata": {},
   "outputs": [],
   "source": [
    "import pandas as pd\n",
    "import matplotlib.pyplot as plt\n",
    "import numpy as np\n",
    "import matplotlib.pyplot as plt\n",
    "import seaborn as sns\n",
    "%matplotlib inline\n",
    "sns.set()\n",
    "\n",
    "import math\n",
    "import scipy\n",
    "from scipy import signal\n",
    "from scipy.signal import find_peaks\n",
    "from scipy.optimize import curve_fit as scf"
   ]
  },
  {
   "cell_type": "code",
   "execution_count": 2,
   "id": "be2775aa",
   "metadata": {},
   "outputs": [
    {
     "name": "stdout",
     "output_type": "stream",
     "text": [
      "(385, 720)\n"
     ]
    },
    {
     "data": {
      "text/html": [
       "<div>\n",
       "<style scoped>\n",
       "    .dataframe tbody tr th:only-of-type {\n",
       "        vertical-align: middle;\n",
       "    }\n",
       "\n",
       "    .dataframe tbody tr th {\n",
       "        vertical-align: top;\n",
       "    }\n",
       "\n",
       "    .dataframe thead th {\n",
       "        text-align: right;\n",
       "    }\n",
       "</style>\n",
       "<table border=\"1\" class=\"dataframe\">\n",
       "  <thead>\n",
       "    <tr style=\"text-align: right;\">\n",
       "      <th></th>\n",
       "      <th>Column6</th>\n",
       "      <th>Column7</th>\n",
       "      <th>Column8</th>\n",
       "      <th>Column9</th>\n",
       "      <th>Column10</th>\n",
       "      <th>Column11</th>\n",
       "      <th>Column12</th>\n",
       "      <th>Column13</th>\n",
       "      <th>Column14</th>\n",
       "      <th>Column15</th>\n",
       "      <th>...</th>\n",
       "      <th>Column716</th>\n",
       "      <th>Column717</th>\n",
       "      <th>Column718</th>\n",
       "      <th>Column719</th>\n",
       "      <th>Column720</th>\n",
       "      <th>Column721</th>\n",
       "      <th>Column722</th>\n",
       "      <th>Column723</th>\n",
       "      <th>Column724</th>\n",
       "      <th>Column725</th>\n",
       "    </tr>\n",
       "    <tr>\n",
       "      <th>Column5</th>\n",
       "      <th></th>\n",
       "      <th></th>\n",
       "      <th></th>\n",
       "      <th></th>\n",
       "      <th></th>\n",
       "      <th></th>\n",
       "      <th></th>\n",
       "      <th></th>\n",
       "      <th></th>\n",
       "      <th></th>\n",
       "      <th></th>\n",
       "      <th></th>\n",
       "      <th></th>\n",
       "      <th></th>\n",
       "      <th></th>\n",
       "      <th></th>\n",
       "      <th></th>\n",
       "      <th></th>\n",
       "      <th></th>\n",
       "      <th></th>\n",
       "      <th></th>\n",
       "    </tr>\n",
       "  </thead>\n",
       "  <tbody>\n",
       "    <tr>\n",
       "      <th>Well</th>\n",
       "      <td>0</td>\n",
       "      <td>1.05</td>\n",
       "      <td>1.58</td>\n",
       "      <td>2.09</td>\n",
       "      <td>2.63</td>\n",
       "      <td>3.14</td>\n",
       "      <td>3.67</td>\n",
       "      <td>4.19</td>\n",
       "      <td>4.72</td>\n",
       "      <td>5.23</td>\n",
       "      <td>...</td>\n",
       "      <td>378.48</td>\n",
       "      <td>379.02</td>\n",
       "      <td>379.55</td>\n",
       "      <td>380.08</td>\n",
       "      <td>380.61</td>\n",
       "      <td>381.16</td>\n",
       "      <td>381.69</td>\n",
       "      <td>382.23</td>\n",
       "      <td>382.77</td>\n",
       "      <td>383.3</td>\n",
       "    </tr>\n",
       "    <tr>\n",
       "      <th>A1</th>\n",
       "      <td>6286</td>\n",
       "      <td>6311.00</td>\n",
       "      <td>6305.00</td>\n",
       "      <td>6307.00</td>\n",
       "      <td>6320.00</td>\n",
       "      <td>6316.00</td>\n",
       "      <td>6333.00</td>\n",
       "      <td>6355.00</td>\n",
       "      <td>6348.00</td>\n",
       "      <td>6346.00</td>\n",
       "      <td>...</td>\n",
       "      <td>6915.00</td>\n",
       "      <td>6932.00</td>\n",
       "      <td>6933.00</td>\n",
       "      <td>6917.00</td>\n",
       "      <td>6928.00</td>\n",
       "      <td>6917.00</td>\n",
       "      <td>6950.00</td>\n",
       "      <td>6944.00</td>\n",
       "      <td>6956.00</td>\n",
       "      <td>6917.0</td>\n",
       "    </tr>\n",
       "    <tr>\n",
       "      <th>A2</th>\n",
       "      <td>6425</td>\n",
       "      <td>6492.00</td>\n",
       "      <td>6492.00</td>\n",
       "      <td>6478.00</td>\n",
       "      <td>6512.00</td>\n",
       "      <td>6494.00</td>\n",
       "      <td>6512.00</td>\n",
       "      <td>6513.00</td>\n",
       "      <td>6515.00</td>\n",
       "      <td>6539.00</td>\n",
       "      <td>...</td>\n",
       "      <td>7285.00</td>\n",
       "      <td>7279.00</td>\n",
       "      <td>7294.00</td>\n",
       "      <td>7276.00</td>\n",
       "      <td>7289.00</td>\n",
       "      <td>7285.00</td>\n",
       "      <td>7284.00</td>\n",
       "      <td>7305.00</td>\n",
       "      <td>7281.00</td>\n",
       "      <td>7299.0</td>\n",
       "    </tr>\n",
       "    <tr>\n",
       "      <th>A3</th>\n",
       "      <td>7635</td>\n",
       "      <td>7692.00</td>\n",
       "      <td>7710.00</td>\n",
       "      <td>7740.00</td>\n",
       "      <td>7758.00</td>\n",
       "      <td>7727.00</td>\n",
       "      <td>7757.00</td>\n",
       "      <td>7758.00</td>\n",
       "      <td>7744.00</td>\n",
       "      <td>7776.00</td>\n",
       "      <td>...</td>\n",
       "      <td>8074.00</td>\n",
       "      <td>8085.00</td>\n",
       "      <td>8074.00</td>\n",
       "      <td>8074.00</td>\n",
       "      <td>8056.00</td>\n",
       "      <td>8067.00</td>\n",
       "      <td>8094.00</td>\n",
       "      <td>8080.00</td>\n",
       "      <td>8062.00</td>\n",
       "      <td>8090.0</td>\n",
       "    </tr>\n",
       "    <tr>\n",
       "      <th>A4</th>\n",
       "      <td>7023</td>\n",
       "      <td>7051.00</td>\n",
       "      <td>7063.00</td>\n",
       "      <td>7098.00</td>\n",
       "      <td>7095.00</td>\n",
       "      <td>7104.00</td>\n",
       "      <td>7117.00</td>\n",
       "      <td>7104.00</td>\n",
       "      <td>7106.00</td>\n",
       "      <td>7114.00</td>\n",
       "      <td>...</td>\n",
       "      <td>7358.00</td>\n",
       "      <td>7379.00</td>\n",
       "      <td>7345.00</td>\n",
       "      <td>7361.00</td>\n",
       "      <td>7339.00</td>\n",
       "      <td>7362.00</td>\n",
       "      <td>7358.00</td>\n",
       "      <td>7371.00</td>\n",
       "      <td>7367.00</td>\n",
       "      <td>7368.0</td>\n",
       "    </tr>\n",
       "  </tbody>\n",
       "</table>\n",
       "<p>5 rows × 720 columns</p>\n",
       "</div>"
      ],
      "text/plain": [
       "         Column6  Column7  Column8  Column9  Column10  Column11  Column12  \\\n",
       "Column5                                                                     \n",
       "Well           0     1.05     1.58     2.09      2.63      3.14      3.67   \n",
       "A1          6286  6311.00  6305.00  6307.00   6320.00   6316.00   6333.00   \n",
       "A2          6425  6492.00  6492.00  6478.00   6512.00   6494.00   6512.00   \n",
       "A3          7635  7692.00  7710.00  7740.00   7758.00   7727.00   7757.00   \n",
       "A4          7023  7051.00  7063.00  7098.00   7095.00   7104.00   7117.00   \n",
       "\n",
       "         Column13  Column14  Column15  ...  Column716  Column717  Column718  \\\n",
       "Column5                                ...                                    \n",
       "Well         4.19      4.72      5.23  ...     378.48     379.02     379.55   \n",
       "A1        6355.00   6348.00   6346.00  ...    6915.00    6932.00    6933.00   \n",
       "A2        6513.00   6515.00   6539.00  ...    7285.00    7279.00    7294.00   \n",
       "A3        7758.00   7744.00   7776.00  ...    8074.00    8085.00    8074.00   \n",
       "A4        7104.00   7106.00   7114.00  ...    7358.00    7379.00    7345.00   \n",
       "\n",
       "         Column719  Column720  Column721  Column722  Column723  Column724  \\\n",
       "Column5                                                                     \n",
       "Well        380.08     380.61     381.16     381.69     382.23     382.77   \n",
       "A1         6917.00    6928.00    6917.00    6950.00    6944.00    6956.00   \n",
       "A2         7276.00    7289.00    7285.00    7284.00    7305.00    7281.00   \n",
       "A3         8074.00    8056.00    8067.00    8094.00    8080.00    8062.00   \n",
       "A4         7361.00    7339.00    7362.00    7358.00    7371.00    7367.00   \n",
       "\n",
       "         Column725  \n",
       "Column5             \n",
       "Well         383.3  \n",
       "A1          6917.0  \n",
       "A2          7299.0  \n",
       "A3          8090.0  \n",
       "A4          7368.0  \n",
       "\n",
       "[5 rows x 720 columns]"
      ]
     },
     "execution_count": 2,
     "metadata": {},
     "output_type": "execute_result"
    }
   ],
   "source": [
    "df = pd.read_csv('Ca-Data-BrainZell.csv', index_col=0)\n",
    "print(df.shape)\n",
    "df.head()"
   ]
  },
  {
   "cell_type": "code",
   "execution_count": 3,
   "id": "588f1254",
   "metadata": {},
   "outputs": [],
   "source": [
    "# plot control A1 :: Control - no treatment"
   ]
  },
  {
   "cell_type": "code",
   "execution_count": 4,
   "id": "ddac9d12",
   "metadata": {},
   "outputs": [
    {
     "data": {
      "text/plain": [
       "<matplotlib.collections.PathCollection at 0x27582e72970>"
      ]
     },
     "execution_count": 4,
     "metadata": {},
     "output_type": "execute_result"
    },
    {
     "data": {
      "image/png": "[encoded data removed]",
      "text/plain": [
       "<Figure size 432x288 with 1 Axes>"
      ]
     },
     "metadata": {},
     "output_type": "display_data"
    }
   ],
   "source": [
    "plt.scatter(df.loc[['Well'],], df.loc[['A1'],], marker='.')"
   ]
  },
  {
   "cell_type": "code",
   "execution_count": 5,
   "id": "68add330",
   "metadata": {},
   "outputs": [],
   "source": [
    "# plot experiment N1 :: Fluoxetine 200 uM experiement"
   ]
  },
  {
   "cell_type": "code",
   "execution_count": 6,
   "id": "0fae6549",
   "metadata": {},
   "outputs": [
    {
     "data": {
      "text/plain": [
       "<matplotlib.collections.PathCollection at 0x275831c7880>"
      ]
     },
     "execution_count": 6,
     "metadata": {},
     "output_type": "execute_result"
    },
    {
     "data": {
      "image/png": "[encoded data removed]",
      "text/plain": [
       "<Figure size 432x288 with 1 Axes>"
      ]
     },
     "metadata": {},
     "output_type": "display_data"
    }
   ],
   "source": [
    "plt.scatter(df.loc[['Well'],], df.loc[['N1'],], marker='.')"
   ]
  },
  {
   "cell_type": "code",
   "execution_count": 7,
   "id": "28a73004",
   "metadata": {},
   "outputs": [],
   "source": [
    "# -------- Data analysis functions ------------------"
   ]
  },
  {
   "cell_type": "code",
   "execution_count": 8,
   "id": "34fc0620",
   "metadata": {},
   "outputs": [],
   "source": [
    "def extract_plot_info(x, y, peak_height_min=None, peak_height_max=None, prominence_value = None, width=1):\n",
    "    peaks, peaks_dict = find_peaks(y, height=(peak_height_min, peak_height_max),  # Min and max thresholds to detect peaks.\n",
    "           threshold=None,  # Min and max vertical distance to neighboring samples.\n",
    "           distance=None,  # Min horizontal distance between peaks.\n",
    "           prominence=prominence_value,  # Vertical distance between the peak and lowest contour line.\n",
    "           width=width,  # Min required width (in bins). E.g. For 10Khz, 10 bins = 1 ms.\n",
    "           wlen=None,  # Window length to calculate prominence.\n",
    "           rel_height=0.5,  # Relative height at which the peak width is measured.\n",
    "           plateau_size=None)\n",
    "    #print(f'peaks {peaks} \\nPeak properties\\n{peaks_dict}')\n",
    "    fs = 720\n",
    "    event_no = 0\n",
    "    pretrigger_window = (2 * fs)/1000  # Pre-event time window in ms\n",
    "    posttrigger_window = (5 * fs)/1000  # Post-event time window in ms\n",
    "    # Create table with results\n",
    "    table = pd.DataFrame(columns = ['event', 'peak_position', \n",
    "                                    'peak_position_s',\n",
    "                                    'event_start', 'event_end',\n",
    "                                    'Peak_Relative_light_units', 'Width_ms', \n",
    "                                    'inst_freq', 'isi_s', \n",
    "                                    'Area_Relative_light_units/ms', 'log_decay', \n",
    "                                    'tau_exp'])\n",
    "\n",
    "    table.event = np.arange(1, len(peaks) + 1)\n",
    "    table.peak_position = peaks\n",
    "    table.peak_position_s = peaks / fs  # Divided by fs to get s\n",
    "    table.event_start = peaks_dict['left_ips'] - pretrigger_window\n",
    "    table.event_end = peaks_dict['right_ips'] + posttrigger_window\n",
    "    table.Peak_Relative_light_units = peaks_dict['peak_heights']  # height parameter is needed\n",
    "    table.Width_ms = peaks_dict['widths']/(fs/1000) # Width (ms) at half-height\n",
    "\n",
    "    # Calculations based on the parameters above\n",
    "    table.inst_freq = np.append((1 / (np.array(table.peak_position[1:]) -\n",
    "                                      np.array(peaks_dict['left_ips'][:-1])) * fs), 'nan')  \n",
    "    table.isi_s = np.diff(peaks, axis=0, prepend=peaks[0]) / fs\n",
    "    # Calculations based on the parameters above\n",
    "    table.inst_freq = np.append((1 / (np.array(table.peak_position[1:]) -\n",
    "                                      np.array(peaks_dict['left_ips'][:-1])) * fs), 'nan')  \n",
    "    table.isi_s = np.diff(peaks, axis=0, prepend=peaks[0]) / fs\n",
    "    # Area\n",
    "    for i, event in table.iterrows():\n",
    "        individual_event = y[int(event.event_start) : int(event.event_end)]\n",
    "        table.loc[i, 'Area_Relative_light_units/ms'] = np.round(individual_event.sum(), 1)/(fs/1000)\n",
    "   # Decay tau from logistic regression\n",
    "    for i, event in table.iterrows():\n",
    "        decay_tau = abs(y[int(event.peak_position) : int(event.event_end)])\n",
    "        log_decay_tau = np.log(decay_tau)\n",
    "        decay_width = int(len(decay_tau))\n",
    "        decay_width_array = list(range(0, decay_width))\n",
    "        slope, _ = np.polyfit(decay_width_array, log_decay_tau, 1)\n",
    "        tau = -1 / slope\n",
    "        table.loc[i, 'log_decay'] = tau/(fs/1000)\n",
    "    # Decay tau from monoexponential fitting\n",
    "    for i, event in table.iterrows():\n",
    "        decay_tau = y[int(event.peak_position) : int(event.event_end)]\n",
    "        decay_width = int(len(decay_tau))\n",
    "        decay_width_array = list(range(0, decay_width))\n",
    "        a_initial = 200\n",
    "        b_initial = 0.1\n",
    "        # popt: optimal values for the parameters, pcov: estimated covariance of popt\n",
    "        popt, pcov = scf(lambda t, a, b: a * np.exp(b * t), \n",
    "                               decay_width_array, decay_tau, \n",
    "                               p0=(a_initial, b_initial), \n",
    "                               maxfev=1000)  # maxfev: number of iterations\n",
    "        a = popt[0]  \n",
    "        b = popt[1]      \n",
    "        table.loc[i, 'tau_exp'] = abs((1/b)/(fs/1000))\n",
    "        \n",
    "    return table"
   ]
  },
  {
   "cell_type": "code",
   "execution_count": 9,
   "id": "cad0d530",
   "metadata": {},
   "outputs": [],
   "source": [
    "def fit_curve(y, peak_start, peak_end):\n",
    "    decay_tau = abs(y[int(peak_start):int(peak_end)])\n",
    "    decay_width = int(len(decay_tau))\n",
    "    \n",
    "    # ---------- Curve fitting # 1. by log method -----------\n",
    "    \n",
    "    log_decay_tau = np.log(decay_tau)\n",
    "    decay_width_array = list(range(0, decay_width))\n",
    "    slope, intercept = np.polyfit(decay_width_array, log_decay_tau, 1)\n",
    "\n",
    "    a_log = np.exp(intercept)\n",
    "    b_log = slope\n",
    "    x_fitted = np.linspace(np.min(decay_width_array), np.max(decay_width_array), decay_width)\n",
    "    y_fitted = a_log * np.exp(b_log * x_fitted)\n",
    "\n",
    "    # ---------- Curve fitting # 2. by exponential method -----------\n",
    "\n",
    "    decay_tau = abs(y[int(peak_start):int(peak_end)])\n",
    "    decay_width = int(len(decay_tau))\n",
    "    decay_width_array = list(range(0, decay_width))\n",
    "\n",
    "    a_initial = 0.1\n",
    "    b_initial = 0.1\n",
    "    # popt: optimal values for the parameters, pcov: estimated covariance of popt\n",
    "    popt, pcov = scf(lambda t, a, b: a * np.exp(b * t),\n",
    "                           decay_width_array, decay_tau, p0=(a_initial, b_initial))\n",
    "    a = popt[0]  # \n",
    "    b = popt[1]      \n",
    "    x_fitted2 = np.linspace(np.min(decay_width_array), np.max(decay_width_array), decay_width)\n",
    "    y_fitted2 = a * np.exp(b * x_fitted2)\n",
    "\n",
    "    # Plot the log fitting\n",
    "    fig = plt.figure(figsize=(5, 2))\n",
    "    a_log = np.exp(intercept)\n",
    "    b_log = slope\n",
    "    x_fitted = np.linspace(np.min(decay_width_array), np.max(decay_width_array), decay_width)\n",
    "    y_fitted = a_log * np.exp(b_log * x_fitted)\n",
    "    ax1 = fig.add_subplot(221)\n",
    "    ax1.set_title(\"Log method\") \n",
    "    ax1.plot(decay_width_array, decay_tau, '--', color='green')\n",
    "    ax1.plot(x_fitted, y_fitted, '--', color='red')\n",
    "    ax1.set_ylabel(\"Relative light units\")\n",
    "\n",
    "    # Plot the exponential fitting\n",
    "    ax2 = fig.add_subplot(222)\n",
    "    ax2.plot(decay_width_array, decay_tau)\n",
    "    ax2.plot(x_fitted2, y_fitted2)\n",
    "    ax2.set_title(\"Exponential method\") \n",
    "    fig.tight_layout()\n",
    "    #plt.show()\n",
    "    return fig"
   ]
  },
  {
   "cell_type": "code",
   "execution_count": 10,
   "id": "5fcaf352",
   "metadata": {},
   "outputs": [],
   "source": [
    "# run above functions on Control A1"
   ]
  },
  {
   "cell_type": "code",
   "execution_count": 11,
   "id": "9c9e71c4",
   "metadata": {},
   "outputs": [
    {
     "data": {
      "text/html": [
       "<div>\n",
       "<style scoped>\n",
       "    .dataframe tbody tr th:only-of-type {\n",
       "        vertical-align: middle;\n",
       "    }\n",
       "\n",
       "    .dataframe tbody tr th {\n",
       "        vertical-align: top;\n",
       "    }\n",
       "\n",
       "    .dataframe thead th {\n",
       "        text-align: right;\n",
       "    }\n",
       "</style>\n",
       "<table border=\"1\" class=\"dataframe\">\n",
       "  <thead>\n",
       "    <tr style=\"text-align: right;\">\n",
       "      <th></th>\n",
       "      <th>event</th>\n",
       "      <th>peak_position</th>\n",
       "      <th>peak_position_s</th>\n",
       "      <th>event_start</th>\n",
       "      <th>event_end</th>\n",
       "      <th>Peak_Relative_light_units</th>\n",
       "      <th>Width_ms</th>\n",
       "      <th>inst_freq</th>\n",
       "      <th>isi_s</th>\n",
       "      <th>Area_Relative_light_units/ms</th>\n",
       "      <th>log_decay</th>\n",
       "      <th>tau_exp</th>\n",
       "    </tr>\n",
       "  </thead>\n",
       "  <tbody>\n",
       "    <tr>\n",
       "      <th>0</th>\n",
       "      <td>1</td>\n",
       "      <td>140</td>\n",
       "      <td>0.194444</td>\n",
       "      <td>130.926279</td>\n",
       "      <td>195.285185</td>\n",
       "      <td>7230.0</td>\n",
       "      <td>82.38737</td>\n",
       "      <td>nan</td>\n",
       "      <td>0.0</td>\n",
       "      <td>641433.333333</td>\n",
       "      <td>2253.585687</td>\n",
       "      <td>2252.426195</td>\n",
       "    </tr>\n",
       "  </tbody>\n",
       "</table>\n",
       "</div>"
      ],
      "text/plain": [
       "   event  peak_position  peak_position_s  event_start   event_end  \\\n",
       "0      1            140         0.194444   130.926279  195.285185   \n",
       "\n",
       "   Peak_Relative_light_units  Width_ms inst_freq  isi_s  \\\n",
       "0                     7230.0  82.38737       nan    0.0   \n",
       "\n",
       "  Area_Relative_light_units/ms    log_decay      tau_exp  \n",
       "0                641433.333333  2253.585687  2252.426195  "
      ]
     },
     "execution_count": 11,
     "metadata": {},
     "output_type": "execute_result"
    }
   ],
   "source": [
    "temp_res_table_A1 = extract_plot_info(df.loc[['Well'],].values[0], df.loc[['A1'],].values[0], peak_height_min=100, peak_height_max=None, prominence_value = 100, width=10)\n",
    "temp_res_table_A1"
   ]
  },
  {
   "cell_type": "code",
   "execution_count": 12,
   "id": "300166e1",
   "metadata": {},
   "outputs": [],
   "source": [
    "# run above functions on Control A3"
   ]
  },
  {
   "cell_type": "code",
   "execution_count": 13,
   "id": "398fd2ef",
   "metadata": {},
   "outputs": [
    {
     "data": {
      "text/plain": [
       "<matplotlib.collections.PathCollection at 0x27583111310>"
      ]
     },
     "execution_count": 13,
     "metadata": {},
     "output_type": "execute_result"
    },
    {
     "data": {
      "image/png": "[encoded data removed]",
      "text/plain": [
       "<Figure size 432x288 with 1 Axes>"
      ]
     },
     "metadata": {},
     "output_type": "display_data"
    }
   ],
   "source": [
    "plt.scatter(df.loc[['Well'],], df.loc[['A3'],], marker='.')"
   ]
  },
  {
   "cell_type": "code",
   "execution_count": 14,
   "id": "def34129",
   "metadata": {},
   "outputs": [
    {
     "data": {
      "text/html": [
       "<div>\n",
       "<style scoped>\n",
       "    .dataframe tbody tr th:only-of-type {\n",
       "        vertical-align: middle;\n",
       "    }\n",
       "\n",
       "    .dataframe tbody tr th {\n",
       "        vertical-align: top;\n",
       "    }\n",
       "\n",
       "    .dataframe thead th {\n",
       "        text-align: right;\n",
       "    }\n",
       "</style>\n",
       "<table border=\"1\" class=\"dataframe\">\n",
       "  <thead>\n",
       "    <tr style=\"text-align: right;\">\n",
       "      <th></th>\n",
       "      <th>event</th>\n",
       "      <th>peak_position</th>\n",
       "      <th>peak_position_s</th>\n",
       "      <th>event_start</th>\n",
       "      <th>event_end</th>\n",
       "      <th>Peak_Relative_light_units</th>\n",
       "      <th>Width_ms</th>\n",
       "      <th>inst_freq</th>\n",
       "      <th>isi_s</th>\n",
       "      <th>Area_Relative_light_units/ms</th>\n",
       "      <th>log_decay</th>\n",
       "      <th>tau_exp</th>\n",
       "    </tr>\n",
       "  </thead>\n",
       "  <tbody>\n",
       "    <tr>\n",
       "      <th>0</th>\n",
       "      <td>1</td>\n",
       "      <td>311</td>\n",
       "      <td>0.431944</td>\n",
       "      <td>308.622500</td>\n",
       "      <td>315.850000</td>\n",
       "      <td>8012.0</td>\n",
       "      <td>3.038194</td>\n",
       "      <td>18.028169014084508</td>\n",
       "      <td>0.000000</td>\n",
       "      <td>77598.611111</td>\n",
       "      <td>593.000309</td>\n",
       "      <td>592.213341</td>\n",
       "    </tr>\n",
       "    <tr>\n",
       "      <th>1</th>\n",
       "      <td>2</td>\n",
       "      <td>350</td>\n",
       "      <td>0.486111</td>\n",
       "      <td>347.667143</td>\n",
       "      <td>355.183333</td>\n",
       "      <td>8022.0</td>\n",
       "      <td>3.439153</td>\n",
       "      <td>13.359840954274347</td>\n",
       "      <td>0.054167</td>\n",
       "      <td>88861.111111</td>\n",
       "      <td>2528.953088</td>\n",
       "      <td>2525.303319</td>\n",
       "    </tr>\n",
       "    <tr>\n",
       "      <th>2</th>\n",
       "      <td>3</td>\n",
       "      <td>403</td>\n",
       "      <td>0.559722</td>\n",
       "      <td>398.295294</td>\n",
       "      <td>407.454839</td>\n",
       "      <td>8037.0</td>\n",
       "      <td>5.721590</td>\n",
       "      <td>5.986793837123991</td>\n",
       "      <td>0.073611</td>\n",
       "      <td>100151.388889</td>\n",
       "      <td>756.835421</td>\n",
       "      <td>756.977634</td>\n",
       "    </tr>\n",
       "    <tr>\n",
       "      <th>3</th>\n",
       "      <td>4</td>\n",
       "      <td>520</td>\n",
       "      <td>0.722222</td>\n",
       "      <td>516.287273</td>\n",
       "      <td>524.443750</td>\n",
       "      <td>8066.0</td>\n",
       "      <td>4.328441</td>\n",
       "      <td>14.042553191489366</td>\n",
       "      <td>0.162500</td>\n",
       "      <td>89331.944444</td>\n",
       "      <td>852.846946</td>\n",
       "      <td>851.934957</td>\n",
       "    </tr>\n",
       "    <tr>\n",
       "      <th>4</th>\n",
       "      <td>5</td>\n",
       "      <td>569</td>\n",
       "      <td>0.790278</td>\n",
       "      <td>566.975094</td>\n",
       "      <td>574.219048</td>\n",
       "      <td>8073.0</td>\n",
       "      <td>3.061046</td>\n",
       "      <td>nan</td>\n",
       "      <td>0.068056</td>\n",
       "      <td>89366.666667</td>\n",
       "      <td>1380.829912</td>\n",
       "      <td>1378.241108</td>\n",
       "    </tr>\n",
       "  </tbody>\n",
       "</table>\n",
       "</div>"
      ],
      "text/plain": [
       "   event  peak_position  peak_position_s  event_start   event_end  \\\n",
       "0      1            311         0.431944   308.622500  315.850000   \n",
       "1      2            350         0.486111   347.667143  355.183333   \n",
       "2      3            403         0.559722   398.295294  407.454839   \n",
       "3      4            520         0.722222   516.287273  524.443750   \n",
       "4      5            569         0.790278   566.975094  574.219048   \n",
       "\n",
       "   Peak_Relative_light_units  Width_ms           inst_freq     isi_s  \\\n",
       "0                     8012.0  3.038194  18.028169014084508  0.000000   \n",
       "1                     8022.0  3.439153  13.359840954274347  0.054167   \n",
       "2                     8037.0  5.721590   5.986793837123991  0.073611   \n",
       "3                     8066.0  4.328441  14.042553191489366  0.162500   \n",
       "4                     8073.0  3.061046                 nan  0.068056   \n",
       "\n",
       "  Area_Relative_light_units/ms    log_decay      tau_exp  \n",
       "0                 77598.611111   593.000309   592.213341  \n",
       "1                 88861.111111  2528.953088  2525.303319  \n",
       "2                100151.388889   756.835421   756.977634  \n",
       "3                 89331.944444   852.846946   851.934957  \n",
       "4                 89366.666667  1380.829912  1378.241108  "
      ]
     },
     "execution_count": 14,
     "metadata": {},
     "output_type": "execute_result"
    }
   ],
   "source": [
    "temp_res_table_A3 = extract_plot_info(df.loc[['Well'],].values[0], df.loc[['A8'],].values[0], peak_height_min=None, peak_height_max=None, prominence_value = 50, width=1)\n",
    "temp_res_table_A3"
   ]
  },
  {
   "cell_type": "code",
   "execution_count": 15,
   "id": "7e9510ab",
   "metadata": {},
   "outputs": [],
   "source": [
    "# ------------ Let's analyze N1- well :: Fluoxetine 200 uM experiement ---------"
   ]
  },
  {
   "cell_type": "code",
   "execution_count": 16,
   "id": "5d0ed3fd",
   "metadata": {},
   "outputs": [],
   "source": [
    "# 1. peak identification "
   ]
  },
  {
   "cell_type": "code",
   "execution_count": 17,
   "id": "9623b7b6",
   "metadata": {},
   "outputs": [
    {
     "data": {
      "text/html": [
       "<div>\n",
       "<style scoped>\n",
       "    .dataframe tbody tr th:only-of-type {\n",
       "        vertical-align: middle;\n",
       "    }\n",
       "\n",
       "    .dataframe tbody tr th {\n",
       "        vertical-align: top;\n",
       "    }\n",
       "\n",
       "    .dataframe thead th {\n",
       "        text-align: right;\n",
       "    }\n",
       "</style>\n",
       "<table border=\"1\" class=\"dataframe\">\n",
       "  <thead>\n",
       "    <tr style=\"text-align: right;\">\n",
       "      <th></th>\n",
       "      <th>event</th>\n",
       "      <th>peak_position</th>\n",
       "      <th>peak_position_s</th>\n",
       "      <th>event_start</th>\n",
       "      <th>event_end</th>\n",
       "      <th>Peak_Relative_light_units</th>\n",
       "      <th>Width_ms</th>\n",
       "      <th>inst_freq</th>\n",
       "      <th>isi_s</th>\n",
       "      <th>Area_Relative_light_units/ms</th>\n",
       "      <th>log_decay</th>\n",
       "      <th>tau_exp</th>\n",
       "    </tr>\n",
       "  </thead>\n",
       "  <tbody>\n",
       "    <tr>\n",
       "      <th>0</th>\n",
       "      <td>1</td>\n",
       "      <td>112</td>\n",
       "      <td>0.155556</td>\n",
       "      <td>9.024286</td>\n",
       "      <td>130.352113</td>\n",
       "      <td>10909.0</td>\n",
       "      <td>161.510871</td>\n",
       "      <td>6.231839258114374</td>\n",
       "      <td>0.000000</td>\n",
       "      <td>1815697.222222</td>\n",
       "      <td>525.427692</td>\n",
       "      <td>543.413825</td>\n",
       "    </tr>\n",
       "    <tr>\n",
       "      <th>1</th>\n",
       "      <td>2</td>\n",
       "      <td>126</td>\n",
       "      <td>0.175000</td>\n",
       "      <td>9.024286</td>\n",
       "      <td>130.352113</td>\n",
       "      <td>10909.0</td>\n",
       "      <td>161.510871</td>\n",
       "      <td>nan</td>\n",
       "      <td>0.019444</td>\n",
       "      <td>1815697.222222</td>\n",
       "      <td>54.530526</td>\n",
       "      <td>53.977136</td>\n",
       "    </tr>\n",
       "  </tbody>\n",
       "</table>\n",
       "</div>"
      ],
      "text/plain": [
       "   event  peak_position  peak_position_s  event_start   event_end  \\\n",
       "0      1            112         0.155556     9.024286  130.352113   \n",
       "1      2            126         0.175000     9.024286  130.352113   \n",
       "\n",
       "   Peak_Relative_light_units    Width_ms          inst_freq     isi_s  \\\n",
       "0                    10909.0  161.510871  6.231839258114374  0.000000   \n",
       "1                    10909.0  161.510871                nan  0.019444   \n",
       "\n",
       "  Area_Relative_light_units/ms   log_decay     tau_exp  \n",
       "0               1815697.222222  525.427692  543.413825  \n",
       "1               1815697.222222   54.530526   53.977136  "
      ]
     },
     "execution_count": 17,
     "metadata": {},
     "output_type": "execute_result"
    }
   ],
   "source": [
    "temp_res_table_N1 = extract_plot_info(df.loc[['Well'],].values[0], df.loc[['N1'],].values[0], peak_height_min=100, peak_height_max=None, prominence_value = 100, width=10)\n",
    "temp_res_table_N1"
   ]
  },
  {
   "cell_type": "code",
   "execution_count": 18,
   "id": "8eece81c",
   "metadata": {},
   "outputs": [],
   "source": [
    "# 2. curve fitting using peak parameters "
   ]
  },
  {
   "cell_type": "code",
   "execution_count": 19,
   "id": "fa68d337",
   "metadata": {},
   "outputs": [
    {
     "data": {
      "image/png": "[encoded data removed]",
      "text/plain": [
       "<Figure size 360x144 with 2 Axes>"
      ]
     },
     "metadata": {},
     "output_type": "display_data"
    }
   ],
   "source": [
    "res_fig = fit_curve(df.loc[['N1'],].values[0], peak_start=9.024286, peak_end=130.352113)\n"
   ]
  },
  {
   "cell_type": "code",
   "execution_count": 20,
   "id": "bca20aef",
   "metadata": {},
   "outputs": [
    {
     "data": {
      "image/png": "[encoded data removed]",
      "text/plain": [
       "<Figure size 360x144 with 2 Axes>"
      ]
     },
     "metadata": {},
     "output_type": "display_data"
    }
   ],
   "source": [
    "res_fig_1_05_130 = fit_curve(df.loc[['N1'],].values[0], peak_start=0, peak_end=130.352113)"
   ]
  },
  {
   "cell_type": "code",
   "execution_count": 21,
   "id": "fbf2bc24",
   "metadata": {},
   "outputs": [],
   "source": [
    "# Code adpoted from\n",
    "# https://spikesandbursts.wordpress.com/2022/07/03/patch-clamp-data-analysis-in-python-postsynaptic-currents-and-potentials/\n",
    "# https://swharden.com/pyabf/tutorial/\n",
    "# https://github.com/swharden/pyABF/tree/main/data\n",
    "# https://docs.scipy.org/doc/scipy/reference/generated/scipy.signal.find_peaks.html"
   ]
  },
  {
   "cell_type": "code",
   "execution_count": null,
   "id": "43b64b42",
   "metadata": {},
   "outputs": [],
   "source": [
    "# The end"
   ]
  }
 ],
 "metadata": {
  "kernelspec": {
   "display_name": "Python 3 (ipykernel)",
   "language": "python",
   "name": "python3"
  },
  "language_info": {
   "codemirror_mode": {
    "name": "ipython",
    "version": 3
   },
   "file_extension": ".py",
   "mimetype": "text/x-python",
   "name": "python",
   "nbconvert_exporter": "python",
   "pygments_lexer": "ipython3",
   "version": "3.8.8"
  }
 },
 "nbformat": 4,
 "nbformat_minor": 5
}
